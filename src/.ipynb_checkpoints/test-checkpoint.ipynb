{
 "cells": [
  {
   "cell_type": "markdown",
   "metadata": {},
   "source": [
    "This is a test notebook to check running remotely"
   ]
  },
  {
   "cell_type": "markdown",
   "metadata": {
    "vscode": {
     "languageId": "plaintext"
    }
   },
   "source": [
    "### Global Imports"
   ]
  },
  {
   "cell_type": "code",
   "execution_count": 4,
   "metadata": {},
   "outputs": [
    {
     "name": "stdout",
     "output_type": "stream",
     "text": [
      "GPU avilable:  True\n"
     ]
    }
   ],
   "source": [
    "import torch\n",
    "print(\"GPU available: \", torch.cuda.is_available())\n",
    "import anndata as ad"
   ]
  },
  {
   "cell_type": "markdown",
   "metadata": {},
   "source": [
    "### Setup Global settings"
   ]
  },
  {
   "cell_type": "code",
   "execution_count": 5,
   "metadata": {},
   "outputs": [],
   "source": [
    "DATA_FOLDER = r\"/home/bar/Data\"\n",
    "data_file_path = rf\"{DATA_FOLDER}/allsamples_genelevel_RNAandChIC_counts.filt-norm.h5ad\""
   ]
  },
  {
   "cell_type": "markdown",
   "metadata": {},
   "source": [
    "### Reading the data"
   ]
  },
  {
   "cell_type": "code",
   "execution_count": 6,
   "metadata": {},
   "outputs": [],
   "source": [
    "adata = ad.read_h5ad(data_file_path)"
   ]
  },
  {
   "cell_type": "code",
   "execution_count": 8,
   "metadata": {},
   "outputs": [
    {
     "name": "stdout",
     "output_type": "stream",
     "text": [
      "AnnData object with n_obs × n_vars = 37265 × 24877\n",
      "    obs: 'obs_names', 'sample', 'plate_batch', 'barcode_vasa', 'day', 'rep', 'mark', 'plate_grp', 'barcode_nla', 'seqrun', 'exp_batch', 'day_rep', 'batch_day_rep', 'sizefactors_deconv_spliced', 'sizefactors_deconv_unspliced', 'sizefactors_deconv_chic', 'sizefactors_deconv_total'\n",
      "    var: 'gene_maxlen', 'tx_maxlen', 'gene_meanlen', 'tx_meanlen', 'Symbol', 'Biotype', 'Chromosome', 'sum_exon_length', 'sum_intron_length', 'sum_amb_length', 'total_gene_length', 'eff_gene_length', 'eff_tx_length'\n",
      "    layers: 'chic', 'spliced', 'total', 'unspliced'\n"
     ]
    }
   ],
   "source": [
    "# exploring the data\n",
    "# Basic info\n",
    "print(adata)"
   ]
  },
  {
   "cell_type": "code",
   "execution_count": 9,
   "metadata": {},
   "outputs": [
    {
     "name": "stdout",
     "output_type": "stream",
     "text": [
      "(37265, 24877)\n"
     ]
    }
   ],
   "source": [
    "# View the shape (cells x genes)\n",
    "print(adata.shape)"
   ]
  },
  {
   "cell_type": "code",
   "execution_count": 10,
   "metadata": {},
   "outputs": [
    {
     "name": "stdout",
     "output_type": "stream",
     "text": [
      "Index(['ENSMUSG00000030917.14', 'ENSMUSG00000044948.18',\n",
      "       'ENSMUSG00000001014.7', 'ENSMUSG00000035296.15', 'ENSMUSG00000038916.8',\n",
      "       'ENSMUSG00000034216.13', 'ENSMUSG00000049303.11',\n",
      "       'ENSMUSG00000040648.16', 'ENSMUSG00000095576.6',\n",
      "       'ENSMUSG00000037012.19',\n",
      "       ...\n",
      "       'ENSMUSG00000028797.21', 'ENSMUSG00000039787.14',\n",
      "       'ENSMUSG00000022313.11', 'ENSMUSG00000028940.3', 'ENSMUSG00000101930.2',\n",
      "       'ENSMUSG00000025867.9', 'ENSMUSG00000103833.2', 'ENSMUSG00000020891.12',\n",
      "       'ENSMUSG00000036526.9', 'ENSMUSG00000045854.5'],\n",
      "      dtype='object', length=24877)\n"
     ]
    }
   ],
   "source": [
    "# See variable names (genes)\n",
    "print(adata.var_names)"
   ]
  },
  {
   "cell_type": "code",
   "execution_count": 11,
   "metadata": {},
   "outputs": [
    {
     "name": "stdout",
     "output_type": "stream",
     "text": [
      "Index(['Gastd5-rep2-H3K27me3-1::AACCTGCT', 'Gastd5-rep2-H3K27me3-1::AATGGTGG',\n",
      "       'Gastd5-rep2-H3K27me3-1::AGTACGTG', 'Gastd5-rep2-H3K27me3-1::ATTTAGCG',\n",
      "       'Gastd5-rep2-H3K27me3-1::AGCAGAAC', 'Gastd5-rep2-H3K27me3-1::AAACAGGC',\n",
      "       'Gastd5-rep2-H3K27me3-1::ACGTATCC', 'Gastd5-rep2-H3K27me3-1::AATCATGC',\n",
      "       'Gastd5-rep2-H3K27me3-1::AACTCTGG', 'Gastd5-rep2-H3K27me3-1::AAAGCGGA',\n",
      "       ...\n",
      "       'Gastd7-rep3-H3K4me3-6::TGTTAAGC', 'Gastd7-rep3-H3K4me3-6::TGATCCTC',\n",
      "       'Gastd7-rep3-H3K4me3-6::TTTGAGGG', 'Gastd7-rep3-H3K4me3-6::TCAGCACT',\n",
      "       'Gastd7-rep3-H3K4me3-6::TCCGAACA', 'Gastd7-rep3-H3K4me3-6::TTCAGCGT',\n",
      "       'Gastd7-rep3-H3K4me3-6::TGACCAAG', 'Gastd7-rep3-H3K4me3-6::TCTGTGAG',\n",
      "       'Gastd7-rep3-H3K4me3-6::TGTACCAA', 'Gastd7-rep3-H3K4me3-6::TTCGGAAA'],\n",
      "      dtype='object', length=37265)\n"
     ]
    }
   ],
   "source": [
    "# See observation names (cells)\n",
    "print(adata.obs_names)"
   ]
  },
  {
   "cell_type": "code",
   "execution_count": 12,
   "metadata": {},
   "outputs": [
    {
     "name": "stdout",
     "output_type": "stream",
     "text": [
      "                                 obs_names                  sample  \\\n",
      "Gastd5-rep2-H3K27me3-1::AACCTGCT  AACCTGCT  Gastd5-rep2-H3K27me3-1   \n",
      "Gastd5-rep2-H3K27me3-1::AATGGTGG  AATGGTGG  Gastd5-rep2-H3K27me3-1   \n",
      "Gastd5-rep2-H3K27me3-1::AGTACGTG  AGTACGTG  Gastd5-rep2-H3K27me3-1   \n",
      "Gastd5-rep2-H3K27me3-1::ATTTAGCG  ATTTAGCG  Gastd5-rep2-H3K27me3-1   \n",
      "Gastd5-rep2-H3K27me3-1::AGCAGAAC  AGCAGAAC  Gastd5-rep2-H3K27me3-1   \n",
      "\n",
      "                                 plate_batch barcode_vasa day   rep      mark  \\\n",
      "Gastd5-rep2-H3K27me3-1::AACCTGCT          36     AACCTGCT   5  rep2  H3K27me3   \n",
      "Gastd5-rep2-H3K27me3-1::AATGGTGG          36     AATGGTGG   5  rep2  H3K27me3   \n",
      "Gastd5-rep2-H3K27me3-1::AGTACGTG          36     AGTACGTG   5  rep2  H3K27me3   \n",
      "Gastd5-rep2-H3K27me3-1::ATTTAGCG          36     ATTTAGCG   5  rep2  H3K27me3   \n",
      "Gastd5-rep2-H3K27me3-1::AGCAGAAC          36     AGCAGAAC   5  rep2  H3K27me3   \n",
      "\n",
      "                                 plate_grp barcode_nla   seqrun exp_batch  \\\n",
      "Gastd5-rep2-H3K27me3-1::AACCTGCT         1    TCATTCCT  OUDxxxx      2022   \n",
      "Gastd5-rep2-H3K27me3-1::AATGGTGG         1    CACAATTG  OUDxxxx      2022   \n",
      "Gastd5-rep2-H3K27me3-1::AGTACGTG         1    TCGAACGG  OUDxxxx      2022   \n",
      "Gastd5-rep2-H3K27me3-1::ATTTAGCG         1    ACACTGAT  OUDxxxx      2022   \n",
      "Gastd5-rep2-H3K27me3-1::AGCAGAAC         1    GTAAGTGT  OUDxxxx      2022   \n",
      "\n",
      "                                 day_rep batch_day_rep  \\\n",
      "Gastd5-rep2-H3K27me3-1::AACCTGCT  5_rep2   5_rep2_rep2   \n",
      "Gastd5-rep2-H3K27me3-1::AATGGTGG  5_rep2   5_rep2_rep2   \n",
      "Gastd5-rep2-H3K27me3-1::AGTACGTG  5_rep2   5_rep2_rep2   \n",
      "Gastd5-rep2-H3K27me3-1::ATTTAGCG  5_rep2   5_rep2_rep2   \n",
      "Gastd5-rep2-H3K27me3-1::AGCAGAAC  5_rep2   5_rep2_rep2   \n",
      "\n",
      "                                  sizefactors_deconv_spliced  \\\n",
      "Gastd5-rep2-H3K27me3-1::AACCTGCT                    0.742548   \n",
      "Gastd5-rep2-H3K27me3-1::AATGGTGG                    2.488922   \n",
      "Gastd5-rep2-H3K27me3-1::AGTACGTG                    0.875846   \n",
      "Gastd5-rep2-H3K27me3-1::ATTTAGCG                    1.443247   \n",
      "Gastd5-rep2-H3K27me3-1::AGCAGAAC                    0.326336   \n",
      "\n",
      "                                  sizefactors_deconv_unspliced  \\\n",
      "Gastd5-rep2-H3K27me3-1::AACCTGCT                      0.610591   \n",
      "Gastd5-rep2-H3K27me3-1::AATGGTGG                      1.738803   \n",
      "Gastd5-rep2-H3K27me3-1::AGTACGTG                      0.937416   \n",
      "Gastd5-rep2-H3K27me3-1::ATTTAGCG                      0.786969   \n",
      "Gastd5-rep2-H3K27me3-1::AGCAGAAC                      0.906376   \n",
      "\n",
      "                                  sizefactors_deconv_chic  \\\n",
      "Gastd5-rep2-H3K27me3-1::AACCTGCT                 1.551579   \n",
      "Gastd5-rep2-H3K27me3-1::AATGGTGG                 0.525895   \n",
      "Gastd5-rep2-H3K27me3-1::AGTACGTG                 0.294958   \n",
      "Gastd5-rep2-H3K27me3-1::ATTTAGCG                 3.012706   \n",
      "Gastd5-rep2-H3K27me3-1::AGCAGAAC                 0.149551   \n",
      "\n",
      "                                  sizefactors_deconv_total  \n",
      "Gastd5-rep2-H3K27me3-1::AACCTGCT                  0.681070  \n",
      "Gastd5-rep2-H3K27me3-1::AATGGTGG                  2.038549  \n",
      "Gastd5-rep2-H3K27me3-1::AGTACGTG                  0.922063  \n",
      "Gastd5-rep2-H3K27me3-1::ATTTAGCG                  1.157620  \n",
      "Gastd5-rep2-H3K27me3-1::AGCAGAAC                  0.664496  \n"
     ]
    }
   ],
   "source": [
    "# View metadata for cells\n",
    "print(adata.obs.head())"
   ]
  },
  {
   "cell_type": "code",
   "execution_count": 13,
   "metadata": {},
   "outputs": [
    {
     "name": "stdout",
     "output_type": "stream",
     "text": [
      "                       gene_maxlen  tx_maxlen  gene_meanlen   tx_meanlen  \\\n",
      "ENSMUSG00000030917.14      18530.0       1484  16311.900000  1296.680672   \n",
      "ENSMUSG00000044948.18     130646.0       2193  94567.158333   639.566667   \n",
      "ENSMUSG00000001014.7        1222.0        970    661.589474   596.724138   \n",
      "ENSMUSG00000035296.15      32560.0       2786  14760.890756  1609.142857   \n",
      "ENSMUSG00000038916.8       55442.0       3775  54868.791667  3546.858333   \n",
      "\n",
      "                       Symbol         Biotype Chromosome  sum_exon_length  \\\n",
      "ENSMUSG00000030917.14   Ldaf1  protein_coding       chr7           1490.0   \n",
      "ENSMUSG00000044948.18  Cfap43  protein_coding      chr19           5800.0   \n",
      "ENSMUSG00000001014.7    Icam4  protein_coding       chr9            971.0   \n",
      "ENSMUSG00000035296.15    Sgcg  protein_coding      chr14           3515.0   \n",
      "ENSMUSG00000038916.8    Mtcl3  protein_coding      chr10           3104.0   \n",
      "\n",
      "                       sum_intron_length  sum_amb_length  total_gene_length  \\\n",
      "ENSMUSG00000030917.14            16678.0           472.0            18640.0   \n",
      "ENSMUSG00000044948.18           150850.0          1095.0           157745.0   \n",
      "ENSMUSG00000001014.7               113.0           139.0             1223.0   \n",
      "ENSMUSG00000035296.15            35554.0           307.0            39376.0   \n",
      "ENSMUSG00000038916.8             51617.0           744.0            55465.0   \n",
      "\n",
      "                       eff_gene_length  eff_tx_length  \n",
      "ENSMUSG00000030917.14          18530.0         1484.0  \n",
      "ENSMUSG00000044948.18         130646.0         2193.0  \n",
      "ENSMUSG00000001014.7            1222.0          970.0  \n",
      "ENSMUSG00000035296.15          32560.0         2786.0  \n",
      "ENSMUSG00000038916.8           55442.0         3104.0  \n"
     ]
    }
   ],
   "source": [
    "# View metadata for genes\n",
    "print(adata.var.head())"
   ]
  },
  {
   "cell_type": "code",
   "execution_count": 14,
   "metadata": {},
   "outputs": [
    {
     "name": "stdout",
     "output_type": "stream",
     "text": [
      "None\n"
     ]
    }
   ],
   "source": [
    "# Access the main data matrix\n",
    "print(adata.X)"
   ]
  }
 ],
 "metadata": {
  "kernelspec": {
   "display_name": "Python 3 (ipykernel)",
   "language": "python",
   "name": "python3"
  },
  "language_info": {
   "codemirror_mode": {
    "name": "ipython",
    "version": 3
   },
   "file_extension": ".py",
   "mimetype": "text/x-python",
   "name": "python",
   "nbconvert_exporter": "python",
   "pygments_lexer": "ipython3",
   "version": "3.12.2"
  }
 },
 "nbformat": 4,
 "nbformat_minor": 4
}
